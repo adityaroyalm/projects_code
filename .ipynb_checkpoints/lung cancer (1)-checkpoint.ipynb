{
 "cells": [
  {
   "cell_type": "code",
   "execution_count": 1,
   "metadata": {},
   "outputs": [
    {
     "name": "stdout",
     "output_type": "stream",
     "text": [
      "Requirement already satisfied: dicom in /usr/local/envs/py3env/lib/python3.5/site-packages\n",
      "\u001b[33mYou are using pip version 9.0.1, however version 10.0.1 is available.\n",
      "You should consider upgrading via the 'pip install --upgrade pip' command.\u001b[0m\n",
      "Requirement already satisfied: pydicom in /usr/local/envs/py3env/lib/python3.5/site-packages\n",
      "\u001b[33mYou are using pip version 9.0.1, however version 10.0.1 is available.\n",
      "You should consider upgrading via the 'pip install --upgrade pip' command.\u001b[0m\n"
     ]
    },
    {
     "name": "stderr",
     "output_type": "stream",
     "text": [
      "/usr/local/envs/py3env/lib/python3.5/site-packages/dicom/__init__.py:53: UserWarning: \n",
      "This code is using an older version of pydicom, which is no longer \n",
      "maintained as of Jan 2017.  You can access the new pydicom features and API \n",
      "by installing `pydicom` from PyPI.\n",
      "See 'Transitioning to pydicom 1.x' section at pydicom.readthedocs.org \n",
      "for more information.\n",
      "\n",
      "  warnings.warn(msg)\n"
     ]
    },
    {
     "name": "stdout",
     "output_type": "stream",
     "text": [
      "Requirement already satisfied: matplotlib in /usr/local/envs/py3env/lib/python3.5/site-packages\n",
      "Requirement already satisfied: numpy>=1.7.1 in /usr/local/envs/py3env/lib/python3.5/site-packages (from matplotlib)\n",
      "Requirement already satisfied: six>=1.10 in /usr/local/envs/py3env/lib/python3.5/site-packages (from matplotlib)\n",
      "Requirement already satisfied: python-dateutil>=2.1 in /usr/local/envs/py3env/lib/python3.5/site-packages (from matplotlib)\n",
      "Requirement already satisfied: pytz in /usr/local/envs/py3env/lib/python3.5/site-packages (from matplotlib)\n",
      "Requirement already satisfied: cycler>=0.10 in /usr/local/envs/py3env/lib/python3.5/site-packages/cycler-0.10.0-py3.5.egg (from matplotlib)\n",
      "Requirement already satisfied: pyparsing!=2.0.4,!=2.1.2,!=2.1.6,>=2.0.1 in /usr/local/envs/py3env/lib/python3.5/site-packages (from matplotlib)\n",
      "\u001b[33mYou are using pip version 9.0.1, however version 10.0.1 is available.\n",
      "You should consider upgrading via the 'pip install --upgrade pip' command.\u001b[0m\n",
      "Requirement already satisfied: keras in /usr/local/envs/py3env/lib/python3.5/site-packages\n",
      "Requirement already satisfied: scipy>=0.14 in /usr/local/envs/py3env/lib/python3.5/site-packages (from keras)\n",
      "Requirement already satisfied: h5py in /usr/local/envs/py3env/lib/python3.5/site-packages (from keras)\n",
      "Requirement already satisfied: numpy>=1.9.1 in /usr/local/envs/py3env/lib/python3.5/site-packages (from keras)\n",
      "Requirement already satisfied: pyyaml in /usr/local/envs/py3env/lib/python3.5/site-packages (from keras)\n",
      "Requirement already satisfied: six>=1.9.0 in /usr/local/envs/py3env/lib/python3.5/site-packages (from keras)\n",
      "\u001b[33mYou are using pip version 9.0.1, however version 10.0.1 is available.\n",
      "You should consider upgrading via the 'pip install --upgrade pip' command.\u001b[0m\n"
     ]
    },
    {
     "name": "stderr",
     "output_type": "stream",
     "text": [
      "/usr/local/envs/py3env/lib/python3.5/site-packages/h5py/__init__.py:36: FutureWarning: Conversion of the second argument of issubdtype from `float` to `np.floating` is deprecated. In future, it will be treated as `np.float64 == np.dtype(float).type`.\n",
      "  from ._conv import register_converters as _register_converters\n",
      "Using TensorFlow backend.\n"
     ]
    },
    {
     "name": "stdout",
     "output_type": "stream",
     "text": [
      "Requirement already satisfied: h5py in /usr/local/envs/py3env/lib/python3.5/site-packages\n",
      "Requirement already satisfied: numpy>=1.7 in /usr/local/envs/py3env/lib/python3.5/site-packages (from h5py)\n",
      "Requirement already satisfied: six in /usr/local/envs/py3env/lib/python3.5/site-packages (from h5py)\n",
      "\u001b[33mYou are using pip version 9.0.1, however version 10.0.1 is available.\n",
      "You should consider upgrading via the 'pip install --upgrade pip' command.\u001b[0m\n",
      "Epoch 1/5\n",
      "1\n",
      "2\n",
      "1/5 [=====>........................] - ETA: 2:32:42 - loss: 16.0302 - acc: 0.0000e+003\n",
      "4\n",
      "2/5 [===========>..................] - ETA: 1:39:08 - loss: 8.0151 - acc: 0.5000     5\n",
      "6\n",
      "3/5 [=================>............] - ETA: 1:02:37 - loss: 5.3434 - acc: 0.66677\n",
      "4/5 [=======================>......] - ETA: 30:16 - loss: 4.0076 - acc: 0.7500  8\n",
      "9\n",
      "5/5 [==============================] - 8802s 1760s/step - loss: 6.4121 - acc: 0.6000\n",
      "\n",
      "Epoch 00001: saving model to weights.hdf5\n",
      "Epoch 2/5\n",
      "10\n",
      "11\n",
      "1/5 [=====>........................] - ETA: 1:51:28 - loss: 1.0960e-07 - acc: 1.000012\n",
      "2/5 [===========>..................] - ETA: 1:23:32 - loss: 1.0960e-07 - acc: 1.000013\n"
     ]
    },
    {
     "name": "stderr",
     "output_type": "stream",
     "text": [
      "Traceback (most recent call last):\n",
      "  File \"/usr/local/envs/py3env/lib/python3.5/site-packages/keras/utils/data_utils.py\", line 678, in _data_generator_task\n",
      "    self.queue.put((True, generator_output))\n",
      "  File \"<string>\", line 2, in put\n",
      "  File \"/usr/local/envs/py3env/lib/python3.5/multiprocessing/managers.py\", line 716, in _callmethod\n",
      "    conn.send((self._id, methodname, args, kwds))\n",
      "  File \"/usr/local/envs/py3env/lib/python3.5/multiprocessing/connection.py\", line 206, in send\n",
      "    self._send_bytes(ForkingPickler.dumps(obj))\n",
      "  File \"/usr/local/envs/py3env/lib/python3.5/multiprocessing/connection.py\", line 397, in _send_bytes\n",
      "    self._send(header)\n",
      "  File \"/usr/local/envs/py3env/lib/python3.5/multiprocessing/connection.py\", line 368, in _send\n",
      "    n = write(self._handle, buf)\n",
      "BrokenPipeError: [Errno 32] Broken pipe\n",
      "Process Process-2:\n",
      "BrokenPipeError: [Errno 32] Broken pipe\n",
      "\n",
      "During handling of the above exception, another exception occurred:\n",
      "\n",
      "Traceback (most recent call last):\n",
      "  File \"/usr/local/envs/py3env/lib/python3.5/multiprocessing/process.py\", line 252, in _bootstrap\n",
      "    self.run()\n",
      "  File \"/usr/local/envs/py3env/lib/python3.5/multiprocessing/process.py\", line 93, in run\n",
      "    self._target(*self._args, **self._kwargs)\n",
      "  File \"/usr/local/envs/py3env/lib/python3.5/site-packages/keras/utils/data_utils.py\", line 688, in _data_generator_task\n",
      "    self.queue.put((False, e))\n",
      "  File \"<string>\", line 2, in put\n",
      "  File \"/usr/local/envs/py3env/lib/python3.5/multiprocessing/managers.py\", line 716, in _callmethod\n",
      "    conn.send((self._id, methodname, args, kwds))\n",
      "  File \"/usr/local/envs/py3env/lib/python3.5/multiprocessing/connection.py\", line 206, in send\n",
      "    self._send_bytes(ForkingPickler.dumps(obj))\n",
      "  File \"/usr/local/envs/py3env/lib/python3.5/multiprocessing/connection.py\", line 404, in _send_bytes\n",
      "    self._send(header + buf)\n",
      "  File \"/usr/local/envs/py3env/lib/python3.5/multiprocessing/connection.py\", line 368, in _send\n",
      "    n = write(self._handle, buf)\n",
      "BrokenPipeError: [Errno 32] Broken pipe\n"
     ]
    },
    {
     "ename": "KeyboardInterrupt",
     "evalue": "",
     "output_type": "error",
     "traceback": [
      "\u001b[0;31m---------------------------------------------------------------------------\u001b[0m",
      "\u001b[0;31mKeyboardInterrupt\u001b[0m                         Traceback (most recent call last)",
      "\u001b[0;32m<ipython-input-1-0411a7364e9b>\u001b[0m in \u001b[0;36m<module>\u001b[0;34m()\u001b[0m\n\u001b[1;32m    184\u001b[0m \u001b[0mmsa_instance\u001b[0m\u001b[0;34m=\u001b[0m\u001b[0mmsa\u001b[0m\u001b[0;34m(\u001b[0m\u001b[0;34m)\u001b[0m\u001b[0;34m\u001b[0m\u001b[0m\n\u001b[1;32m    185\u001b[0m \u001b[0mmsa_instance\u001b[0m\u001b[0;34m.\u001b[0m\u001b[0minitialize\u001b[0m\u001b[0;34m(\u001b[0m\u001b[0;34m)\u001b[0m\u001b[0;34m\u001b[0m\u001b[0m\n\u001b[0;32m--> 186\u001b[0;31m \u001b[0mhistory\u001b[0m\u001b[0;34m=\u001b[0m\u001b[0mmsa_instance\u001b[0m\u001b[0;34m.\u001b[0m\u001b[0msecond_func\u001b[0m\u001b[0;34m(\u001b[0m\u001b[0;34m)\u001b[0m\u001b[0;34m\u001b[0m\u001b[0m\n\u001b[0m\u001b[1;32m    187\u001b[0m \u001b[0mprint\u001b[0m\u001b[0;34m(\u001b[0m\u001b[0;34m'a'\u001b[0m\u001b[0;34m)\u001b[0m\u001b[0;34m\u001b[0m\u001b[0m\n",
      "\u001b[0;32m<ipython-input-1-0411a7364e9b>\u001b[0m in \u001b[0;36msecond_func\u001b[0;34m(self)\u001b[0m\n\u001b[1;32m    173\u001b[0m       \u001b[0;31m#self.valid=self.valid.iloc[self.replay2,:]\u001b[0m\u001b[0;34m\u001b[0m\u001b[0;34m\u001b[0m\u001b[0m\n\u001b[1;32m    174\u001b[0m       \u001b[0;31m#return self.model.fit_generator(self.array_generator(self.train),validation_data=self.array_generator(self.valid),validation_steps=np.round(len(self.valid)/batch_size),use_multiprocessing=True,steps_per_epoch=np.round(len(self.train)/batch_size),epochs=2)\u001b[0m\u001b[0;34m\u001b[0m\u001b[0;34m\u001b[0m\u001b[0m\n\u001b[0;32m--> 175\u001b[0;31m       \u001b[0;32mreturn\u001b[0m \u001b[0mself\u001b[0m\u001b[0;34m.\u001b[0m\u001b[0mmodel\u001b[0m\u001b[0;34m.\u001b[0m\u001b[0mfit_generator\u001b[0m\u001b[0;34m(\u001b[0m\u001b[0mself\u001b[0m\u001b[0;34m.\u001b[0m\u001b[0marray_generator\u001b[0m\u001b[0;34m(\u001b[0m\u001b[0mself\u001b[0m\u001b[0;34m.\u001b[0m\u001b[0mtrain\u001b[0m\u001b[0;34m)\u001b[0m\u001b[0;34m,\u001b[0m\u001b[0mcallbacks\u001b[0m\u001b[0;34m=\u001b[0m\u001b[0;34m[\u001b[0m\u001b[0mself\u001b[0m\u001b[0;34m.\u001b[0m\u001b[0mcheckpointer\u001b[0m\u001b[0;34m]\u001b[0m\u001b[0;34m,\u001b[0m\u001b[0muse_multiprocessing\u001b[0m\u001b[0;34m=\u001b[0m\u001b[0;32mTrue\u001b[0m\u001b[0;34m,\u001b[0m\u001b[0msteps_per_epoch\u001b[0m\u001b[0;34m=\u001b[0m\u001b[0mnp\u001b[0m\u001b[0;34m.\u001b[0m\u001b[0mround\u001b[0m\u001b[0;34m(\u001b[0m\u001b[0mlen\u001b[0m\u001b[0;34m(\u001b[0m\u001b[0mself\u001b[0m\u001b[0;34m.\u001b[0m\u001b[0mtrain\u001b[0m\u001b[0;34m)\u001b[0m\u001b[0;34m/\u001b[0m\u001b[0mbatch_size\u001b[0m\u001b[0;34m)\u001b[0m\u001b[0;34m,\u001b[0m\u001b[0mepochs\u001b[0m\u001b[0;34m=\u001b[0m\u001b[0;36m5\u001b[0m\u001b[0;34m,\u001b[0m\u001b[0mverbose\u001b[0m\u001b[0;34m=\u001b[0m\u001b[0;36m1\u001b[0m\u001b[0;34m)\u001b[0m\u001b[0;34m\u001b[0m\u001b[0m\n\u001b[0m\u001b[1;32m    176\u001b[0m \u001b[0;34m\u001b[0m\u001b[0m\n\u001b[1;32m    177\u001b[0m     \u001b[0;31m#else:\u001b[0m\u001b[0;34m\u001b[0m\u001b[0;34m\u001b[0m\u001b[0m\n",
      "\u001b[0;32m/usr/local/envs/py3env/lib/python3.5/site-packages/keras/legacy/interfaces.py\u001b[0m in \u001b[0;36mwrapper\u001b[0;34m(*args, **kwargs)\u001b[0m\n\u001b[1;32m     89\u001b[0m                 warnings.warn('Update your `' + object_name +\n\u001b[1;32m     90\u001b[0m                               '` call to the Keras 2 API: ' + signature, stacklevel=2)\n\u001b[0;32m---> 91\u001b[0;31m             \u001b[0;32mreturn\u001b[0m \u001b[0mfunc\u001b[0m\u001b[0;34m(\u001b[0m\u001b[0;34m*\u001b[0m\u001b[0margs\u001b[0m\u001b[0;34m,\u001b[0m \u001b[0;34m**\u001b[0m\u001b[0mkwargs\u001b[0m\u001b[0;34m)\u001b[0m\u001b[0;34m\u001b[0m\u001b[0m\n\u001b[0m\u001b[1;32m     92\u001b[0m         \u001b[0mwrapper\u001b[0m\u001b[0;34m.\u001b[0m\u001b[0m_original_function\u001b[0m \u001b[0;34m=\u001b[0m \u001b[0mfunc\u001b[0m\u001b[0;34m\u001b[0m\u001b[0m\n\u001b[1;32m     93\u001b[0m         \u001b[0;32mreturn\u001b[0m \u001b[0mwrapper\u001b[0m\u001b[0;34m\u001b[0m\u001b[0m\n",
      "\u001b[0;32m/usr/local/envs/py3env/lib/python3.5/site-packages/keras/models.py\u001b[0m in \u001b[0;36mfit_generator\u001b[0;34m(self, generator, steps_per_epoch, epochs, verbose, callbacks, validation_data, validation_steps, class_weight, max_queue_size, workers, use_multiprocessing, shuffle, initial_epoch)\u001b[0m\n\u001b[1;32m   1313\u001b[0m                                         \u001b[0muse_multiprocessing\u001b[0m\u001b[0;34m=\u001b[0m\u001b[0muse_multiprocessing\u001b[0m\u001b[0;34m,\u001b[0m\u001b[0;34m\u001b[0m\u001b[0m\n\u001b[1;32m   1314\u001b[0m                                         \u001b[0mshuffle\u001b[0m\u001b[0;34m=\u001b[0m\u001b[0mshuffle\u001b[0m\u001b[0;34m,\u001b[0m\u001b[0;34m\u001b[0m\u001b[0m\n\u001b[0;32m-> 1315\u001b[0;31m                                         initial_epoch=initial_epoch)\n\u001b[0m\u001b[1;32m   1316\u001b[0m \u001b[0;34m\u001b[0m\u001b[0m\n\u001b[1;32m   1317\u001b[0m     \u001b[0;34m@\u001b[0m\u001b[0minterfaces\u001b[0m\u001b[0;34m.\u001b[0m\u001b[0mlegacy_generator_methods_support\u001b[0m\u001b[0;34m\u001b[0m\u001b[0m\n",
      "\u001b[0;32m/usr/local/envs/py3env/lib/python3.5/site-packages/keras/legacy/interfaces.py\u001b[0m in \u001b[0;36mwrapper\u001b[0;34m(*args, **kwargs)\u001b[0m\n\u001b[1;32m     89\u001b[0m                 warnings.warn('Update your `' + object_name +\n\u001b[1;32m     90\u001b[0m                               '` call to the Keras 2 API: ' + signature, stacklevel=2)\n\u001b[0;32m---> 91\u001b[0;31m             \u001b[0;32mreturn\u001b[0m \u001b[0mfunc\u001b[0m\u001b[0;34m(\u001b[0m\u001b[0;34m*\u001b[0m\u001b[0margs\u001b[0m\u001b[0;34m,\u001b[0m \u001b[0;34m**\u001b[0m\u001b[0mkwargs\u001b[0m\u001b[0;34m)\u001b[0m\u001b[0;34m\u001b[0m\u001b[0m\n\u001b[0m\u001b[1;32m     92\u001b[0m         \u001b[0mwrapper\u001b[0m\u001b[0;34m.\u001b[0m\u001b[0m_original_function\u001b[0m \u001b[0;34m=\u001b[0m \u001b[0mfunc\u001b[0m\u001b[0;34m\u001b[0m\u001b[0m\n\u001b[1;32m     93\u001b[0m         \u001b[0;32mreturn\u001b[0m \u001b[0mwrapper\u001b[0m\u001b[0;34m\u001b[0m\u001b[0m\n",
      "\u001b[0;32m/usr/local/envs/py3env/lib/python3.5/site-packages/keras/engine/training.py\u001b[0m in \u001b[0;36mfit_generator\u001b[0;34m(self, generator, steps_per_epoch, epochs, verbose, callbacks, validation_data, validation_steps, class_weight, max_queue_size, workers, use_multiprocessing, shuffle, initial_epoch)\u001b[0m\n\u001b[1;32m   2228\u001b[0m                     outs = self.train_on_batch(x, y,\n\u001b[1;32m   2229\u001b[0m                                                \u001b[0msample_weight\u001b[0m\u001b[0;34m=\u001b[0m\u001b[0msample_weight\u001b[0m\u001b[0;34m,\u001b[0m\u001b[0;34m\u001b[0m\u001b[0m\n\u001b[0;32m-> 2230\u001b[0;31m                                                class_weight=class_weight)\n\u001b[0m\u001b[1;32m   2231\u001b[0m \u001b[0;34m\u001b[0m\u001b[0m\n\u001b[1;32m   2232\u001b[0m                     \u001b[0;32mif\u001b[0m \u001b[0;32mnot\u001b[0m \u001b[0misinstance\u001b[0m\u001b[0;34m(\u001b[0m\u001b[0mouts\u001b[0m\u001b[0;34m,\u001b[0m \u001b[0mlist\u001b[0m\u001b[0;34m)\u001b[0m\u001b[0;34m:\u001b[0m\u001b[0;34m\u001b[0m\u001b[0m\n",
      "\u001b[0;32m/usr/local/envs/py3env/lib/python3.5/site-packages/keras/engine/training.py\u001b[0m in \u001b[0;36mtrain_on_batch\u001b[0;34m(self, x, y, sample_weight, class_weight)\u001b[0m\n\u001b[1;32m   1881\u001b[0m             \u001b[0mins\u001b[0m \u001b[0;34m=\u001b[0m \u001b[0mx\u001b[0m \u001b[0;34m+\u001b[0m \u001b[0my\u001b[0m \u001b[0;34m+\u001b[0m \u001b[0msample_weights\u001b[0m\u001b[0;34m\u001b[0m\u001b[0m\n\u001b[1;32m   1882\u001b[0m         \u001b[0mself\u001b[0m\u001b[0;34m.\u001b[0m\u001b[0m_make_train_function\u001b[0m\u001b[0;34m(\u001b[0m\u001b[0;34m)\u001b[0m\u001b[0;34m\u001b[0m\u001b[0m\n\u001b[0;32m-> 1883\u001b[0;31m         \u001b[0moutputs\u001b[0m \u001b[0;34m=\u001b[0m \u001b[0mself\u001b[0m\u001b[0;34m.\u001b[0m\u001b[0mtrain_function\u001b[0m\u001b[0;34m(\u001b[0m\u001b[0mins\u001b[0m\u001b[0;34m)\u001b[0m\u001b[0;34m\u001b[0m\u001b[0m\n\u001b[0m\u001b[1;32m   1884\u001b[0m         \u001b[0;32mif\u001b[0m \u001b[0mlen\u001b[0m\u001b[0;34m(\u001b[0m\u001b[0moutputs\u001b[0m\u001b[0;34m)\u001b[0m \u001b[0;34m==\u001b[0m \u001b[0;36m1\u001b[0m\u001b[0;34m:\u001b[0m\u001b[0;34m\u001b[0m\u001b[0m\n\u001b[1;32m   1885\u001b[0m             \u001b[0;32mreturn\u001b[0m \u001b[0moutputs\u001b[0m\u001b[0;34m[\u001b[0m\u001b[0;36m0\u001b[0m\u001b[0;34m]\u001b[0m\u001b[0;34m\u001b[0m\u001b[0m\n",
      "\u001b[0;32m/usr/local/envs/py3env/lib/python3.5/site-packages/keras/backend/tensorflow_backend.py\u001b[0m in \u001b[0;36m__call__\u001b[0;34m(self, inputs)\u001b[0m\n\u001b[1;32m   2480\u001b[0m         \u001b[0msession\u001b[0m \u001b[0;34m=\u001b[0m \u001b[0mget_session\u001b[0m\u001b[0;34m(\u001b[0m\u001b[0;34m)\u001b[0m\u001b[0;34m\u001b[0m\u001b[0m\n\u001b[1;32m   2481\u001b[0m         updated = session.run(fetches=fetches, feed_dict=feed_dict,\n\u001b[0;32m-> 2482\u001b[0;31m                               **self.session_kwargs)\n\u001b[0m\u001b[1;32m   2483\u001b[0m         \u001b[0;32mreturn\u001b[0m \u001b[0mupdated\u001b[0m\u001b[0;34m[\u001b[0m\u001b[0;34m:\u001b[0m\u001b[0mlen\u001b[0m\u001b[0;34m(\u001b[0m\u001b[0mself\u001b[0m\u001b[0;34m.\u001b[0m\u001b[0moutputs\u001b[0m\u001b[0;34m)\u001b[0m\u001b[0;34m]\u001b[0m\u001b[0;34m\u001b[0m\u001b[0m\n\u001b[1;32m   2484\u001b[0m \u001b[0;34m\u001b[0m\u001b[0m\n",
      "\u001b[0;32m/usr/local/envs/py3env/lib/python3.5/site-packages/tensorflow/python/client/session.py\u001b[0m in \u001b[0;36mrun\u001b[0;34m(self, fetches, feed_dict, options, run_metadata)\u001b[0m\n\u001b[1;32m    893\u001b[0m     \u001b[0;32mtry\u001b[0m\u001b[0;34m:\u001b[0m\u001b[0;34m\u001b[0m\u001b[0m\n\u001b[1;32m    894\u001b[0m       result = self._run(None, fetches, feed_dict, options_ptr,\n\u001b[0;32m--> 895\u001b[0;31m                          run_metadata_ptr)\n\u001b[0m\u001b[1;32m    896\u001b[0m       \u001b[0;32mif\u001b[0m \u001b[0mrun_metadata\u001b[0m\u001b[0;34m:\u001b[0m\u001b[0;34m\u001b[0m\u001b[0m\n\u001b[1;32m    897\u001b[0m         \u001b[0mproto_data\u001b[0m \u001b[0;34m=\u001b[0m \u001b[0mtf_session\u001b[0m\u001b[0;34m.\u001b[0m\u001b[0mTF_GetBuffer\u001b[0m\u001b[0;34m(\u001b[0m\u001b[0mrun_metadata_ptr\u001b[0m\u001b[0;34m)\u001b[0m\u001b[0;34m\u001b[0m\u001b[0m\n",
      "\u001b[0;32m/usr/local/envs/py3env/lib/python3.5/site-packages/tensorflow/python/client/session.py\u001b[0m in \u001b[0;36m_run\u001b[0;34m(self, handle, fetches, feed_dict, options, run_metadata)\u001b[0m\n\u001b[1;32m   1126\u001b[0m     \u001b[0;32mif\u001b[0m \u001b[0mfinal_fetches\u001b[0m \u001b[0;32mor\u001b[0m \u001b[0mfinal_targets\u001b[0m \u001b[0;32mor\u001b[0m \u001b[0;34m(\u001b[0m\u001b[0mhandle\u001b[0m \u001b[0;32mand\u001b[0m \u001b[0mfeed_dict_tensor\u001b[0m\u001b[0;34m)\u001b[0m\u001b[0;34m:\u001b[0m\u001b[0;34m\u001b[0m\u001b[0m\n\u001b[1;32m   1127\u001b[0m       results = self._do_run(handle, final_targets, final_fetches,\n\u001b[0;32m-> 1128\u001b[0;31m                              feed_dict_tensor, options, run_metadata)\n\u001b[0m\u001b[1;32m   1129\u001b[0m     \u001b[0;32melse\u001b[0m\u001b[0;34m:\u001b[0m\u001b[0;34m\u001b[0m\u001b[0m\n\u001b[1;32m   1130\u001b[0m       \u001b[0mresults\u001b[0m \u001b[0;34m=\u001b[0m \u001b[0;34m[\u001b[0m\u001b[0;34m]\u001b[0m\u001b[0;34m\u001b[0m\u001b[0m\n",
      "\u001b[0;32m/usr/local/envs/py3env/lib/python3.5/site-packages/tensorflow/python/client/session.py\u001b[0m in \u001b[0;36m_do_run\u001b[0;34m(self, handle, target_list, fetch_list, feed_dict, options, run_metadata)\u001b[0m\n\u001b[1;32m   1342\u001b[0m     \u001b[0;32mif\u001b[0m \u001b[0mhandle\u001b[0m \u001b[0;32mis\u001b[0m \u001b[0;32mNone\u001b[0m\u001b[0;34m:\u001b[0m\u001b[0;34m\u001b[0m\u001b[0m\n\u001b[1;32m   1343\u001b[0m       return self._do_call(_run_fn, self._session, feeds, fetches, targets,\n\u001b[0;32m-> 1344\u001b[0;31m                            options, run_metadata)\n\u001b[0m\u001b[1;32m   1345\u001b[0m     \u001b[0;32melse\u001b[0m\u001b[0;34m:\u001b[0m\u001b[0;34m\u001b[0m\u001b[0m\n\u001b[1;32m   1346\u001b[0m       \u001b[0;32mreturn\u001b[0m \u001b[0mself\u001b[0m\u001b[0;34m.\u001b[0m\u001b[0m_do_call\u001b[0m\u001b[0;34m(\u001b[0m\u001b[0m_prun_fn\u001b[0m\u001b[0;34m,\u001b[0m \u001b[0mself\u001b[0m\u001b[0;34m.\u001b[0m\u001b[0m_session\u001b[0m\u001b[0;34m,\u001b[0m \u001b[0mhandle\u001b[0m\u001b[0;34m,\u001b[0m \u001b[0mfeeds\u001b[0m\u001b[0;34m,\u001b[0m \u001b[0mfetches\u001b[0m\u001b[0;34m)\u001b[0m\u001b[0;34m\u001b[0m\u001b[0m\n",
      "\u001b[0;32m/usr/local/envs/py3env/lib/python3.5/site-packages/tensorflow/python/client/session.py\u001b[0m in \u001b[0;36m_do_call\u001b[0;34m(self, fn, *args)\u001b[0m\n\u001b[1;32m   1348\u001b[0m   \u001b[0;32mdef\u001b[0m \u001b[0m_do_call\u001b[0m\u001b[0;34m(\u001b[0m\u001b[0mself\u001b[0m\u001b[0;34m,\u001b[0m \u001b[0mfn\u001b[0m\u001b[0;34m,\u001b[0m \u001b[0;34m*\u001b[0m\u001b[0margs\u001b[0m\u001b[0;34m)\u001b[0m\u001b[0;34m:\u001b[0m\u001b[0;34m\u001b[0m\u001b[0m\n\u001b[1;32m   1349\u001b[0m     \u001b[0;32mtry\u001b[0m\u001b[0;34m:\u001b[0m\u001b[0;34m\u001b[0m\u001b[0m\n\u001b[0;32m-> 1350\u001b[0;31m       \u001b[0;32mreturn\u001b[0m \u001b[0mfn\u001b[0m\u001b[0;34m(\u001b[0m\u001b[0;34m*\u001b[0m\u001b[0margs\u001b[0m\u001b[0;34m)\u001b[0m\u001b[0;34m\u001b[0m\u001b[0m\n\u001b[0m\u001b[1;32m   1351\u001b[0m     \u001b[0;32mexcept\u001b[0m \u001b[0merrors\u001b[0m\u001b[0;34m.\u001b[0m\u001b[0mOpError\u001b[0m \u001b[0;32mas\u001b[0m \u001b[0me\u001b[0m\u001b[0;34m:\u001b[0m\u001b[0;34m\u001b[0m\u001b[0m\n\u001b[1;32m   1352\u001b[0m       \u001b[0mmessage\u001b[0m \u001b[0;34m=\u001b[0m \u001b[0mcompat\u001b[0m\u001b[0;34m.\u001b[0m\u001b[0mas_text\u001b[0m\u001b[0;34m(\u001b[0m\u001b[0me\u001b[0m\u001b[0;34m.\u001b[0m\u001b[0mmessage\u001b[0m\u001b[0;34m)\u001b[0m\u001b[0;34m\u001b[0m\u001b[0m\n",
      "\u001b[0;32m/usr/local/envs/py3env/lib/python3.5/site-packages/tensorflow/python/client/session.py\u001b[0m in \u001b[0;36m_run_fn\u001b[0;34m(session, feed_dict, fetch_list, target_list, options, run_metadata)\u001b[0m\n\u001b[1;32m   1327\u001b[0m           return tf_session.TF_Run(session, options,\n\u001b[1;32m   1328\u001b[0m                                    \u001b[0mfeed_dict\u001b[0m\u001b[0;34m,\u001b[0m \u001b[0mfetch_list\u001b[0m\u001b[0;34m,\u001b[0m \u001b[0mtarget_list\u001b[0m\u001b[0;34m,\u001b[0m\u001b[0;34m\u001b[0m\u001b[0m\n\u001b[0;32m-> 1329\u001b[0;31m                                    status, run_metadata)\n\u001b[0m\u001b[1;32m   1330\u001b[0m \u001b[0;34m\u001b[0m\u001b[0m\n\u001b[1;32m   1331\u001b[0m     \u001b[0;32mdef\u001b[0m \u001b[0m_prun_fn\u001b[0m\u001b[0;34m(\u001b[0m\u001b[0msession\u001b[0m\u001b[0;34m,\u001b[0m \u001b[0mhandle\u001b[0m\u001b[0;34m,\u001b[0m \u001b[0mfeed_dict\u001b[0m\u001b[0;34m,\u001b[0m \u001b[0mfetch_list\u001b[0m\u001b[0;34m)\u001b[0m\u001b[0;34m:\u001b[0m\u001b[0;34m\u001b[0m\u001b[0m\n",
      "\u001b[0;31mKeyboardInterrupt\u001b[0m: "
     ]
    }
   ],
   "source": [
    "import numpy as np \n",
    "import pandas as pd \n",
    "import os\n",
    "import glob\n",
    "batch_size=1\n",
    "fitter=list()\n",
    "evaluator=list()\n",
    "!pip install dicom\n",
    "!pip install pydicom\n",
    "import dicom\n",
    "!pip install matplotlib\n",
    "import matplotlib.pyplot as plt\n",
    "import scipy.ndimage\n",
    "history=list()\n",
    "!pip install keras\n",
    "from keras.models import load_model\n",
    "from __future__ import division\n",
    "import pydicom\n",
    "from io import BytesIO\n",
    "from sklearn.preprocessing import normalize\n",
    "import google.datalab.storage as storage\n",
    "import matplotlib.pyplot as plt\n",
    "from skimage import filters\n",
    "from scipy.ndimage.interpolation import rotate\n",
    "import math\n",
    "import numpy as np\n",
    "from sklearn.metrics import accuracy_score\n",
    "\n",
    "!pip install h5py\n",
    "import h5py\n",
    "import keras \n",
    "from keras import layers \n",
    "from sklearn.model_selection import train_test_split\n",
    "from keras.layers import BatchNormalization,Conv3D\n",
    "from keras.models import Sequential\n",
    "from sklearn.model_selection import train_test_split\n",
    "from scipy.ndimage.interpolation import zoom\n",
    "from keras.layers import Flatten,Dense\n",
    "from keras.utils import to_categorical\n",
    "import keras.losses\n",
    "import keras.backend as back\n",
    "from keras.backend import int_shape\n",
    "from keras.callbacks import ModelCheckpoint\n",
    "class msa:\n",
    "  def initialize(self):\n",
    "    self.replay=0\n",
    "    self.replay2=0\n",
    "    bucket = storage.Bucket('fifth-honor-201613')\n",
    "    obj = bucket.object('stage1_labels.csv')\n",
    "    csv_file=obj.read_stream()\n",
    "    #loading dependent variable and id data\n",
    "    df=pd.read_csv(BytesIO(csv_file))\n",
    "    df=df.sort_values(['cancer'])\n",
    "    self.total=list()\n",
    "    self.train=list()\n",
    "    self.valid=list()\n",
    "    self.test=list()\n",
    "   #loading path name to images and id data \n",
    "    for o in storage.Bucket('fifth-honor-201613').objects(prefix='adiroybuck',delimiter=''):\n",
    "        self.total.append(str(o.key).split('/')[1])\n",
    "    self.total=list(set(self.total))\n",
    "   #sorting data\n",
    "    self.total=sorted(self.total)\n",
    "    y=np.array(df['cancer'])\n",
    "    self.total=pd.DataFrame(self.total,columns=['id'])\n",
    "    #merging images and dependent variable by id column\n",
    "    self.total=self.total.merge(df,how='left',on='id')   \n",
    "    self.total_na=self.total.isnull().sum()\n",
    "    self.total=self.total.fillna(0)\n",
    "    if self.total.shape[1]>2:\n",
    "        self.total.drop(columns=[x for x in t.columns[2:]],inplace=True)\n",
    "    self.total=self.total.iloc[1:,:]\n",
    "    #train and test split of merged dataset \n",
    "    self.train,self.test=train_test_split(self.total.iloc[1:,:],test_size=0.66,random_state=42)\n",
    "    #valid and test split of merged dataset \n",
    "    self.valid,self.test=train_test_split(self.test,test_size=0.5,random_state=42)\n",
    "    self.train.reset_index(drop=True,inplace=True)\n",
    "    self.test.reset_index(drop=True,inplace=True)\n",
    "    self.valid.reset_index(drop=True,inplace=True)\n",
    "    repeat='notfoo'\n",
    "    #building a CNN neural network\n",
    "    try:\n",
    "      #building a model\n",
    "      self.model=Sequential()\n",
    "      self.model.add(Conv3D(30,(30),padding='same',activation='relu',data_format='channels_first',input_shape=(1,50,128,128)))\n",
    "      self.model.add(Conv3D(40,(30),padding='same',activation='relu',data_format='channels_first'))\n",
    "      keras.layers.MaxPooling3D(pool_size=(2, 2, 2), strides=None, padding='same', data_format=(1,50,128,128))\n",
    "      self.model.add(Conv3D(1,(15),padding='same',activation='relu',data_format='channels_first'))\n",
    "      self.model.add(Flatten())\n",
    "      self.model.add(Dense(2,activation='softmax'))\n",
    "      self.model.compile(loss='binary_crossentropy',optimizer='sgd',metrics=['accuracy'])\n",
    "      i=0 \n",
    "      #loading weights from the previous iteration\n",
    "      self.model.load_weights=self.model.load_weights('weights.hdf5')\n",
    "    except:\n",
    "      #loading the previous model\n",
    "      self.model=load_model('new.h5')\n",
    "      #checkpointing new weights\n",
    "      self.checkpointer = ModelCheckpoint(filepath='weights.hdf5', verbose=1)   \n",
    "  #check if the input data into the function is to be trained or tested, if it should be trained or valid check=notfoo, if it should be tested then check=foo \n",
    "  def array_generator(self,train):\n",
    "    if self.train.loc[0,'id']==self.test.loc[0,'id']:\n",
    "      check='foo'\n",
    "    else:\n",
    "      check='notfoo'\n",
    "    train_y=self.train['cancer'].values\n",
    "    self.test_y=self.test['cancer'].values\n",
    "    train_y=to_categorical(train_y,num_classes=2)\n",
    "    while 1: \n",
    "      y=list()\n",
    "      ordered_position=list()\n",
    "      plan0=list()\n",
    "      b=list()\n",
    "      for i in range(1,len(self.train)):\n",
    "        slices=list()\n",
    "        patient=list()\n",
    "        position=list()\n",
    "        patient_images=list()\n",
    "        #dicom files or .dcm files of each patient\n",
    "        patient=[o.key for o in storage.Objects('fifth-honor-201613',prefix='adiroybuck/'+str(self.train.loc[i,'id'])+'/',delimiter='')]\n",
    "        #sorting the dicom files of each patient by their slice location\n",
    "        for j in range(len(patient)):\n",
    "          bucket = storage.Bucket('fifth-honor-201613')\n",
    "          obj = bucket.object(patient[j])\n",
    "          dicom_file=obj.read_stream()\n",
    "          df=dicom.read_file(BytesIO(dicom_file))\n",
    "          position.append(df.SliceLocation)\n",
    "        sor=sorted(position)\n",
    "        ran=[sor.index(x) for x in position]\n",
    "        o=0\n",
    "        v=[0 for x in range(len(patient))]\n",
    "        for x in ran:\n",
    "          v[x]=patient[o]\n",
    "          o=o+1\n",
    "        patient=v\n",
    "        #reading the sorted dicom files and removing the edges and noise from the ct scan or images\n",
    "        for j in range(len(patient)):\n",
    "          bucket = storage.Bucket('fifth-honor-201613')\n",
    "          obj = bucket.object(patient[j])\n",
    "          dicom_file=obj.read_stream()\n",
    "          df=dicom.read_file(BytesIO(dicom_file))\n",
    "          ordered_poistion=df.ImageOrientationPatient\n",
    "          pixel_Array=df.pixel_array\n",
    "          val=filters.threshold_otsu(pixel_Array)\n",
    "          mask=pixel_Array>val\n",
    "          pixel_Array=mask*pixel_Array\n",
    "          pixel_Array=normalize(pixel_Array,axis=1)\n",
    "          slices.append(pixel_Array)\n",
    "        #stacking the sorted arrays\n",
    "        threed_array=np.stack([x for x in slices],axis=0)\n",
    "        threed_array=scipy.ndimage.zoom(threed_array,1/4,order=0)\n",
    "\n",
    "        threed_array=np.expand_dims(threed_array,axis=0)\n",
    "        threed_array=np.expand_dims(threed_array,axis=0)\n",
    "        if threed_array.shape[2]>=50:\n",
    "          threed_array=threed_array[:,:,:50,:,:]\n",
    "        else:\n",
    "          temp=threed_array\n",
    "          m=threed_array.shape[2]\n",
    "          threed_array=np.zeros((1,1,50,128,128))\n",
    "          threed_array[0,:,:m,:,:]=temp\n",
    "        #  if it is either validated data or test data just return the array\n",
    "        if check=='foo':\n",
    "          #print('test')\n",
    "\n",
    "          self.replay=self.replay+1\n",
    "          print(self.replay)\n",
    "          \n",
    "          yield(threed_array)\n",
    "        #if it is a train data return arrays and the target variable  \n",
    "        else:\n",
    "          self.replay2=self.replay2+1\n",
    "          \n",
    "          print(self.replay2)\n",
    "\n",
    "          yield(threed_array,np.expand_dims(train_y[i],0))\n",
    "\n",
    "  #function will return a model by using the return value from array_generator. generator function with necessary arguments is used to build the model and the model is saved         \n",
    "  def second_func(self):\n",
    "    if True:\n",
    "      return self.model.fit_generator(self.array_generator(self.train),validation_data=self.array_generator(self.valid),callbacks=[self.checkpointer],use_multiprocessing=True,steps_per_epoch=np.round(len(self.train)/batch_size),epochs=5,verbose=1)\n",
    "import warnings\n",
    "warnings.filterwarnings('ignore')\n",
    "msa_instance=msa()\n",
    "msa_instance.initialize()\n",
    "history=msa_instance.second_func()\n",
    "print('a')\n"
   ]
  },
  {
   "cell_type": "code",
   "execution_count": 1,
   "metadata": {},
   "outputs": [
    {
     "ename": "NameError",
     "evalue": "name 'evaluator' is not defined",
     "output_type": "error",
     "traceback": [
      "\u001b[1;31m---------------------------------------------------------------------------\u001b[0m",
      "\u001b[1;31mNameError\u001b[0m                                 Traceback (most recent call last)",
      "\u001b[1;32m<ipython-input-1-a935f409f0e8>\u001b[0m in \u001b[0;36m<module>\u001b[1;34m()\u001b[0m\n\u001b[0;32m      1\u001b[0m \u001b[1;31m# steps required to build a model by the tensorflow APIevaluator=list()\u001b[0m\u001b[1;33m\u001b[0m\u001b[1;33m\u001b[0m\u001b[0m\n\u001b[1;32m----> 2\u001b[1;33m \u001b[0mevaluator\u001b[0m\u001b[1;33m.\u001b[0m\u001b[0mappend\u001b[0m\u001b[1;33m(\u001b[0m\u001b[0mmsa_instance\u001b[0m\u001b[1;33m.\u001b[0m\u001b[0mmodel\u001b[0m\u001b[1;33m.\u001b[0m\u001b[0mevaluate_generator\u001b[0m\u001b[1;33m(\u001b[0m\u001b[0mmsa_instance\u001b[0m\u001b[1;33m.\u001b[0m\u001b[0marray_generator\u001b[0m\u001b[1;33m(\u001b[0m\u001b[0mmsa_instance\u001b[0m\u001b[1;33m.\u001b[0m\u001b[0mtrain\u001b[0m\u001b[1;33m)\u001b[0m\u001b[1;33m,\u001b[0m\u001b[0msteps\u001b[0m\u001b[1;33m=\u001b[0m\u001b[0mlen\u001b[0m\u001b[1;33m(\u001b[0m\u001b[0mmsa_instance\u001b[0m\u001b[1;33m.\u001b[0m\u001b[0mtrain\u001b[0m\u001b[1;33m)\u001b[0m\u001b[1;33m/\u001b[0m\u001b[0mbatch_size\u001b[0m\u001b[1;33m)\u001b[0m\u001b[1;33m)\u001b[0m\u001b[1;33m\u001b[0m\u001b[0m\n\u001b[0m",
      "\u001b[1;31mNameError\u001b[0m: name 'evaluator' is not defined"
     ]
    }
   ],
   "source": [
    "# evaluate_generator\n",
    "evaluator=list()\n",
    "evaluator.append(msa_instance.model.evaluate_generator(msa_instance.array_generator(msa_instance.train),steps=len(msa_instance.train)/batch_size))"
   ]
  },
  {
   "cell_type": "code",
   "execution_count": 151,
   "metadata": {},
   "outputs": [
    {
     "name": "stdout",
     "output_type": "stream",
     "text": [
      "8\n",
      "9\n",
      "1/5 [=====>........................] - ETA: 2:00:0810\n",
      "2/5 [===========>..................] - ETA: 1:12:4511\n",
      "3/5 [=================>............] - ETA: 44:41  12\n",
      "4/5 [=======================>......] - ETA: 21:2213\n",
      "5/5 [==============================] - 6240s 1248s/step\n",
      "14\n"
     ]
    }
   ],
   "source": [
    "#predict_geneator\n",
    "predictions=list()\n",
    "predictions.append(msa_instance.model.predict_generator(msa_instance.array_generator(msa_instance.test),steps=len(msa_instance.test),verbose=1))"
   ]
  },
  {
   "cell_type": "code",
   "execution_count": 152,
   "metadata": {},
   "outputs": [
    {
     "name": "stdout",
     "output_type": "stream",
     "text": [
      "[array([[0., 1.],\n",
      "       [0., 1.],\n",
      "       [0., 1.],\n",
      "       [0., 1.],\n",
      "       [0., 1.]], dtype=float32)]\n"
     ]
    }
   ],
   "source": [
    "print(predictions)"
   ]
  },
  {
   "cell_type": "code",
   "execution_count": 2,
   "metadata": {},
   "outputs": [
    {
     "name": "stdout",
     "output_type": "stream",
     "text": [
      "0.6\n"
     ]
    }
   ],
   "source": [
    "from sklearn.metrics import accuracy_score\n",
    "accurcy_score(predictions[:,1],msa_instance.test_y)"
   ]
  },
  {
   "cell_type": "code",
   "execution_count": 6,
   "metadata": {},
   "outputs": [
    {
     "name": "stdout",
     "output_type": "stream",
     "text": [
      "(30, 30, 30, 1, 30)\n",
      "(30, 30, 30, 30, 60)\n",
      "(15, 15, 15, 60, 1)\n"
     ]
    }
   ],
   "source": [
    "print(msa_instance.model.layers[0].get_weights()[0].shape)\n",
    "print(msa_instance.model.layers[1].get_weights()[0].shape)\n",
    "print(msa_instance.model.layers[2].get_weights()[0].shape)"
   ]
  },
  {
   "cell_type": "code",
   "execution_count": null,
   "metadata": {
    "collapsed": true
   },
   "outputs": [],
   "source": [
    "# just to see weights and observing the image\n",
    "#observing sample \n",
    "#####################################sample###############################\n",
    "slices=list()\n",
    "patient=list()\n",
    "position=list()\n",
    "patient_images=list()\n",
    "patient=[o.key for o in storage.Objects('fifth-honor-201613',prefix='adiroybuck/'+str(msa_instance.train.loc[0,'id'])+'/',delimiter='')]\n",
    "for j in range(len(patient)):\n",
    "  bucket = storage.Bucket('fifth-honor-201613')\n",
    "  obj = bucket.object(patient[j])\n",
    "  dicom_file=obj.read_stream()\n",
    "  df=dicom.read_file(BytesIO(dicom_file))\n",
    "  position.append(df.SliceLocation)\n",
    "sor=sorted(position)\n",
    "ran=[sor.index(x) for x in position]\n",
    "o=0\n",
    "v=[0 for x in range(len(patient))]\n",
    "for x in ran:\n",
    "  v[x]=patient[o]\n",
    "  o=o+1\n",
    "patient=v\n",
    "for j in range(len(patient)):\n",
    "  bucket = storage.Bucket('fifth-honor-201613')\n",
    "  obj = bucket.object(patient[j])\n",
    "  dicom_file=obj.read_stream()\n",
    "  df=dicom.read_file(BytesIO(dicom_file))\n",
    "  ordered_poistion=df.ImageOrientationPatient\n",
    "  pixel_Array=df.pixel_array\n",
    "  val=filters.threshold_otsu(pixel_Array)\n",
    "  mask=pixel_Array>val\n",
    "  pixel_Array=mask*pixel_Array\n",
    "  slices.append(pixel_Array)\n",
    "  threed_array=np.stack([x for x in slices],axis=0)\n",
    "  threed_array=scipy.ndimage.zoom(threed_array,1/4,order=0)\n",
    "        \n",
    "  threed_array=np.expand_dims(threed_array,axis=0)\n",
    "  threed_array=np.expand_dims(threed_array,axis=0)\n",
    "  if threed_array.shape[2]>=50:\n",
    "    threed_array=threed_array[:,:,:50,:,:]\n",
    "  else:\n",
    "    temp=threed_array\n",
    "    m=threed_array.shape[2]\n",
    "    threed_array=np.zeros((1,1,50,128,128))\n",
    "    threed_array[0,:,:m,:,:]=temp"
   ]
  },
  {
   "cell_type": "code",
   "execution_count": 7,
   "metadata": {},
   "outputs": [],
   "source": [
    "###################################################        sample              #######################\n",
    "layers= msa_instance.model.layers\n",
    "inputs = msa_instance.model.input                                          \n",
    "outputs = [layer.output for layer in layers]\n",
    "real = back.function([inputs]+ [back.learning_phase()], outputs ) \n",
    "test = threed_array\n",
    "result = real([test, 1.])\n",
    "msa_instance.model.layers[1].get_weights()"
   ]
  },
  {
   "cell_type": "code",
   "execution_count": 105,
   "metadata": {},
   "outputs": [
    {
     "data": {
      "text/plain": [
       "<matplotlib.image.AxesImage at 0x7f74706bc4a8>"
      ]
     },
     "execution_count": 105,
     "metadata": {},
     "output_type": "execute_result"
    },
    {
     "data": {
      "image/png": "[encoded data removed]",
      "text/plain": [
       "<matplotlib.figure.Figure at 0x7f7470765ac8>"
      ]
     },
     "metadata": {},
     "output_type": "display_data"
    }
   ],
   "source": [
    "###################################################        sample              #######################\n",
    "plt.imshow(threed_array[0,0,10,:,:])"
   ]
  },
  {
   "cell_type": "code",
   "execution_count": 163,
   "metadata": {},
   "outputs": [
    {
     "data": {
      "text/plain": [
       "0    7bfba4540956c0b2c5b78b3623a4855d\n",
       "1    4a782bbc2608288a3ed05e511af6f8bb\n",
       "2    0a38e7597ca26f9374f8ea2770ba870d\n",
       "3    2ce2565b9839d8812cf0f9ad80371d3f\n",
       "4    006b96310a37b36cccb2ab48d10b49a3\n",
       "Name: id, dtype: object"
      ]
     },
     "execution_count": 163,
     "metadata": {},
     "output_type": "execute_result"
    }
   ],
   "source": [
    "###################################################        sample              #######################\n",
    "msa_instance.test['id']"
   ]
  },
  {
   "cell_type": "code",
   "execution_count": null,
   "metadata": {
    "collapsed": true
   },
   "outputs": [],
   "source": [
    "###################################################        sample              #######################\n",
    "self.model=self.model.load_weights('weights.hdf5')"
   ]
  },
  {
   "cell_type": "code",
   "execution_count": 24,
   "metadata": {},
   "outputs": [
    {
     "data": {
      "text/plain": [
       "<matplotlib.image.AxesImage at 0x7fc1246f9358>"
      ]
     },
     "execution_count": 24,
     "metadata": {},
     "output_type": "execute_result"
    },
    {
     "data": {
      "image/png": "[encoded data removed]",
      "text/plain": [
       "<matplotlib.figure.Figure at 0x7fc12473e470>"
      ]
     },
     "metadata": {},
     "output_type": "display_data"
    }
   ],
   "source": [
    "###################################################        sample              #######################\n",
    "plt.imshow(result[1][0,0,30,:,:])"
   ]
  }
 ],
 "metadata": {
  "kernelspec": {
   "display_name": "Python 3",
   "language": "python",
   "name": "python3"
  },
  "language_info": {
   "codemirror_mode": {
    "name": "ipython",
    "version": 3
   },
   "file_extension": ".py",
   "mimetype": "text/x-python",
   "name": "python",
   "nbconvert_exporter": "python",
   "pygments_lexer": "ipython3",
   "version": "3.6.4"
  }
 },
 "nbformat": 4,
 "nbformat_minor": 2
}
