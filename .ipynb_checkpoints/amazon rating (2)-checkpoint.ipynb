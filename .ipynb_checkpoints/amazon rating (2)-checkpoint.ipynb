{
 "cells": [
  {
   "cell_type": "code",
   "execution_count": 10,
   "metadata": {},
   "outputs": [
    {
     "name": "stdout",
     "output_type": "stream",
     "text": [
      "Requirement already satisfied: plotly in /usr/local/envs/py2env/lib/python2.7/site-packages\n",
      "Requirement already satisfied: requests in /usr/local/envs/py2env/lib/python2.7/site-packages (from plotly)\n",
      "Requirement already satisfied: six in /usr/local/envs/py2env/lib/python2.7/site-packages (from plotly)\n",
      "Requirement already satisfied: pytz in /usr/local/envs/py2env/lib/python2.7/site-packages (from plotly)\n",
      "\u001b[33mYou are using pip version 9.0.1, however version 10.0.1 is available.\n",
      "You should consider upgrading via the 'pip install --upgrade pip' command.\u001b[0m\n",
      "Requirement already satisfied: mlxtend in /usr/local/envs/py2env/lib/python2.7/site-packages\n",
      "Requirement already satisfied: scipy>=0.17 in /usr/local/envs/py2env/lib/python2.7/site-packages (from mlxtend)\n",
      "Requirement already satisfied: pandas>=0.17.1 in /usr/local/envs/py2env/lib/python2.7/site-packages (from mlxtend)\n",
      "Requirement already satisfied: setuptools in /usr/local/envs/py2env/lib/python2.7/site-packages (from mlxtend)\n",
      "Requirement already satisfied: matplotlib>=1.5.1 in /usr/local/envs/py2env/lib/python2.7/site-packages (from mlxtend)\n",
      "Requirement already satisfied: numpy>=1.10.4 in /usr/local/envs/py2env/lib/python2.7/site-packages (from mlxtend)\n",
      "Requirement already satisfied: scikit-learn>=0.18 in /usr/local/envs/py2env/lib/python2.7/site-packages (from mlxtend)\n",
      "Requirement already satisfied: python-dateutil in /usr/local/envs/py2env/lib/python2.7/site-packages (from pandas>=0.17.1->mlxtend)\n",
      "Requirement already satisfied: pytz>=2011k in /usr/local/envs/py2env/lib/python2.7/site-packages (from pandas>=0.17.1->mlxtend)\n",
      "Requirement already satisfied: six>=1.10 in /usr/local/envs/py2env/lib/python2.7/site-packages (from matplotlib>=1.5.1->mlxtend)\n",
      "Requirement already satisfied: backports.functools_lru_cache in /usr/local/envs/py2env/lib/python2.7/site-packages (from matplotlib>=1.5.1->mlxtend)\n",
      "Requirement already satisfied: subprocess32 in /usr/local/envs/py2env/lib/python2.7/site-packages (from matplotlib>=1.5.1->mlxtend)\n",
      "Requirement already satisfied: cycler>=0.10 in /usr/local/envs/py2env/lib/python2.7/site-packages/cycler-0.10.0-py2.7.egg (from matplotlib>=1.5.1->mlxtend)\n",
      "Requirement already satisfied: pyparsing!=2.0.4,!=2.1.2,!=2.1.6,>=2.0.1 in /usr/local/envs/py2env/lib/python2.7/site-packages (from matplotlib>=1.5.1->mlxtend)\n",
      "\u001b[33mYou are using pip version 9.0.1, however version 10.0.1 is available.\n",
      "You should consider upgrading via the 'pip install --upgrade pip' command.\u001b[0m\n",
      "Collecting time\n",
      "\u001b[31m  Could not find a version that satisfies the requirement time (from versions: )\u001b[0m\n",
      "\u001b[31mNo matching distribution found for time\u001b[0m\n",
      "\u001b[33mYou are using pip version 9.0.1, however version 10.0.1 is available.\n",
      "You should consider upgrading via the 'pip install --upgrade pip' command.\u001b[0m\n",
      "Requirement already satisfied: mlxtend in /usr/local/envs/py2env/lib/python2.7/site-packages\n",
      "Requirement already satisfied: scipy>=0.17 in /usr/local/envs/py2env/lib/python2.7/site-packages (from mlxtend)\n",
      "Requirement already satisfied: matplotlib>=1.5.1 in /usr/local/envs/py2env/lib/python2.7/site-packages (from mlxtend)\n",
      "Requirement already satisfied: setuptools in /usr/local/envs/py2env/lib/python2.7/site-packages (from mlxtend)\n",
      "Requirement already satisfied: pandas>=0.17.1 in /usr/local/envs/py2env/lib/python2.7/site-packages (from mlxtend)\n",
      "Requirement already satisfied: numpy>=1.10.4 in /usr/local/envs/py2env/lib/python2.7/site-packages (from mlxtend)\n",
      "Requirement already satisfied: scikit-learn>=0.18 in /usr/local/envs/py2env/lib/python2.7/site-packages (from mlxtend)\n",
      "Requirement already satisfied: six>=1.10 in /usr/local/envs/py2env/lib/python2.7/site-packages (from matplotlib>=1.5.1->mlxtend)\n",
      "Requirement already satisfied: python-dateutil>=2.1 in /usr/local/envs/py2env/lib/python2.7/site-packages (from matplotlib>=1.5.1->mlxtend)\n",
      "Requirement already satisfied: backports.functools_lru_cache in /usr/local/envs/py2env/lib/python2.7/site-packages (from matplotlib>=1.5.1->mlxtend)\n",
      "Requirement already satisfied: subprocess32 in /usr/local/envs/py2env/lib/python2.7/site-packages (from matplotlib>=1.5.1->mlxtend)\n",
      "Requirement already satisfied: pytz in /usr/local/envs/py2env/lib/python2.7/site-packages (from matplotlib>=1.5.1->mlxtend)\n",
      "Requirement already satisfied: cycler>=0.10 in /usr/local/envs/py2env/lib/python2.7/site-packages/cycler-0.10.0-py2.7.egg (from matplotlib>=1.5.1->mlxtend)\n",
      "Requirement already satisfied: pyparsing!=2.0.4,!=2.1.2,!=2.1.6,>=2.0.1 in /usr/local/envs/py2env/lib/python2.7/site-packages (from matplotlib>=1.5.1->mlxtend)\n",
      "\u001b[33mYou are using pip version 9.0.1, however version 10.0.1 is available.\n",
      "You should consider upgrading via the 'pip install --upgrade pip' command.\u001b[0m\n"
     ]
    }
   ],
   "source": [
    "import pandas as pd\n",
    "from io import BytesIO\n",
    "!pip install plotly\n",
    "!pip install mlxtend\n",
    "from google.datalab import storage\n",
    "import plotly.plotly as py\n",
    "import numpy as np\n",
    "from mlxtend.frequent_patterns import apriori \n",
    "import numpy as np\n",
    "from sklearn.metrics.pairwise import cosine_similarity\n",
    "from mlxtend.frequent_patterns import association_rules\n",
    "import plotly.graph_objs as go\n",
    "import plotly.graph_objs as go\n",
    "obj = storage.Bucket('neeh').object('ratings_Electronics.csv')\n",
    "data_csv=obj.read_stream()\n",
    "!pip install time\n",
    "import time\n",
    "!pip install mlxtend\n",
    "#len(df.index)"
   ]
  },
  {
   "cell_type": "code",
   "execution_count": 11,
   "metadata": {},
   "outputs": [],
   "source": [
    "df = pd.read_csv(BytesIO(data_csv), sep = ',',header=None)\n",
    "df.columns=['userId','itemId','rating','timestamp']\n",
    "df['timestamp']=df['timestamp'].apply(lambda x:time.strftime('%Y-%m-%d',time.gmtime(x)))"
   ]
  },
  {
   "cell_type": "code",
   "execution_count": null,
   "metadata": {},
   "outputs": [],
   "source": [
    "from __future__ import division"
   ]
  },
  {
   "cell_type": "code",
   "execution_count": null,
   "metadata": {},
   "outputs": [
    {
     "name": "stdout",
     "output_type": "stream",
     "text": [
      "                antecedants   consequents         lift\n",
      "0              (9966304932)  (9966286683)  9826.000000\n",
      "1              (9966286683)  (9966304932)  9826.000000\n",
      "2              (6000089805)  (6000012217)  1228.250000\n",
      "3              (6000012217)  (6000089805)  1228.250000\n",
      "4  (B00000J0GF, B00000J0IX)  (B00000J0IV)   818.833333\n"
     ]
    }
   ],
   "source": [
    "start_time=time.time()\n",
    "rules=list()\n",
    "for i in range(int((len(df.index)/10000)+1)):\n",
    "  try:\n",
    "    df2=df.iloc[10000*i:(i+1)*10000,:]\n",
    "    df3=df2.pivot(index='userId',columns='itemId',values='itemId')\n",
    "    df4=pd.DataFrame(np.matrix(df3)!=None)\n",
    "    df4.columns=df3.columns\n",
    "    frequent_items=apriori(df4,min_support=0.0001,use_colnames=True)\n",
    "    rules.append(association_rules(frequent_items,metric='lift',min_threshold=1.1).loc[:,['antecedants','consequents','lift']])\n",
    "    if i%10==0:\n",
    "      print(rules[i].head())\n",
    "  except:\n",
    "    pass\n",
    "net_time=start_time-time.time()"
   ]
  },
  {
   "cell_type": "code",
   "execution_count": 15,
   "metadata": {},
   "outputs": [
    {
     "data": {
      "text/plain": [
       "[]"
      ]
     },
     "execution_count": 15,
     "metadata": {},
     "output_type": "execute_result"
    }
   ],
   "source": [
    "rules"
   ]
  },
  {
   "cell_type": "code",
   "execution_count": 10,
   "metadata": {},
   "outputs": [
    {
     "ename": "NameError",
     "evalue": "name 'apriori' is not defined",
     "output_type": "error",
     "traceback": [
      "\u001b[0;31m\u001b[0m",
      "\u001b[0;31mNameError\u001b[0mTraceback (most recent call last)",
      "\u001b[0;32m<ipython-input-10-92519833be05>\u001b[0m in \u001b[0;36m<module>\u001b[0;34m()\u001b[0m\n\u001b[0;32m----> 1\u001b[0;31m \u001b[0mapriori\u001b[0m\u001b[0;34m(\u001b[0m\u001b[0mdf4\u001b[0m\u001b[0;34m,\u001b[0m\u001b[0mmin_support\u001b[0m\u001b[0;34m=\u001b[0m\u001b[0;36m0.0001\u001b[0m\u001b[0;34m,\u001b[0m\u001b[0muse_colnames\u001b[0m\u001b[0;34m=\u001b[0m\u001b[0mTrue\u001b[0m\u001b[0;34m)\u001b[0m\u001b[0;34m\u001b[0m\u001b[0m\n\u001b[0m",
      "\u001b[0;31mNameError\u001b[0m: name 'apriori' is not defined"
     ]
    }
   ],
   "source": [
    "apriori(df4,min_support=0.0001,use_colnames=True)"
   ]
  },
  {
   "cell_type": "code",
   "execution_count": 3,
   "metadata": {},
   "outputs": [
    {
     "name": "stdout",
     "output_type": "stream",
     "text": [
      "a\n",
      "d\n",
      "i\n"
     ]
    }
   ],
   "source": [
    "for i in range(1):\n",
    "  try:\n",
    "    print('a')\n",
    "    df2=df.iloc[10000*i:(i+1)*10000,:]\n",
    "    print('d')\n",
    "    df3=df2.pivot(index='userId',columns='itemId',values='itemId')\n",
    "    print('i')\n",
    "    k=pd.DataFrame(np.matrix(df3)!=None)\n",
    "    print('t')\n",
    "  except:\n",
    "    pass"
   ]
  },
  {
   "cell_type": "code",
   "execution_count": 5,
   "metadata": {},
   "outputs": [],
   "source": [
    "import numpy as np\n",
    "k=pd.DataFrame(np.matrix(df3)!=None)"
   ]
  },
  {
   "cell_type": "code",
   "execution_count": 72,
   "metadata": {},
   "outputs": [
    {
     "ename": "NameError",
     "evalue": "name 'frequent_items' is not defined",
     "output_type": "error",
     "traceback": [
      "\u001b[0;31m\u001b[0m",
      "\u001b[0;31mNameError\u001b[0mTraceback (most recent call last)",
      "\u001b[0;32m<ipython-input-72-5012a03f0c01>\u001b[0m in \u001b[0;36m<module>\u001b[0;34m()\u001b[0m\n\u001b[0;32m----> 1\u001b[0;31m \u001b[0mfrequent_items\u001b[0m\u001b[0;34m\u001b[0m\u001b[0m\n\u001b[0m",
      "\u001b[0;31mNameError\u001b[0m: name 'frequent_items' is not defined"
     ]
    }
   ],
   "source": [
    "frequent_items"
   ]
  },
  {
   "cell_type": "code",
   "execution_count": 13,
   "metadata": {},
   "outputs": [
    {
     "name": "stdout",
     "output_type": "stream",
     "text": [
      "a\n"
     ]
    },
    {
     "ename": "KeyboardInterrupt",
     "evalue": "",
     "output_type": "error",
     "traceback": [
      "\u001b[0;31m\u001b[0m",
      "\u001b[0;31mKeyboardInterrupt\u001b[0mTraceback (most recent call last)",
      "\u001b[0;32m<ipython-input-13-6aaf6d4d898c>\u001b[0m in \u001b[0;36m<module>\u001b[0;34m()\u001b[0m\n\u001b[1;32m     39\u001b[0m   \u001b[0mnet\u001b[0m\u001b[0;34m=\u001b[0m\u001b[0mset\u001b[0m\u001b[0;34m(\u001b[0m\u001b[0ma\u001b[0m\u001b[0;34m)\u001b[0m\u001b[0;34m-\u001b[0m\u001b[0mset\u001b[0m\u001b[0;34m(\u001b[0m\u001b[0mb\u001b[0m\u001b[0;34m)\u001b[0m\u001b[0;34m\u001b[0m\u001b[0m\n\u001b[1;32m     40\u001b[0m   \u001b[0;32mfor\u001b[0m \u001b[0mitem\u001b[0m \u001b[0;32min\u001b[0m \u001b[0mnet\u001b[0m\u001b[0;34m:\u001b[0m\u001b[0;34m\u001b[0m\u001b[0m\n\u001b[0;32m---> 41\u001b[0;31m     \u001b[0mratings\u001b[0m\u001b[0;34m.\u001b[0m\u001b[0mappend\u001b[0m\u001b[0;34m(\u001b[0m\u001b[0mdf\u001b[0m\u001b[0;34m.\u001b[0m\u001b[0mloc\u001b[0m\u001b[0;34m[\u001b[0m\u001b[0;34m(\u001b[0m\u001b[0mdf\u001b[0m\u001b[0;34m[\u001b[0m\u001b[0;34m'userId'\u001b[0m\u001b[0;34m]\u001b[0m\u001b[0;34m==\u001b[0m\u001b[0muser_id\u001b[0m\u001b[0;34m[\u001b[0m\u001b[0;36m0\u001b[0m\u001b[0;34m]\u001b[0m\u001b[0;34m)\u001b[0m \u001b[0;34m&\u001b[0m \u001b[0;34m(\u001b[0m\u001b[0mdf\u001b[0m\u001b[0;34m[\u001b[0m\u001b[0;34m'itemId'\u001b[0m\u001b[0;34m]\u001b[0m\u001b[0;34m==\u001b[0m\u001b[0mitem\u001b[0m\u001b[0;34m)\u001b[0m\u001b[0;34m,\u001b[0m\u001b[0;34m'rating'\u001b[0m\u001b[0;34m]\u001b[0m\u001b[0;34m.\u001b[0m\u001b[0mvalues\u001b[0m\u001b[0;34m[\u001b[0m\u001b[0;34m:\u001b[0m\u001b[0mlen\u001b[0m\u001b[0;34m(\u001b[0m\u001b[0mnet\u001b[0m\u001b[0;34m)\u001b[0m\u001b[0;34m]\u001b[0m\u001b[0;34m)\u001b[0m\u001b[0;34m\u001b[0m\u001b[0m\n\u001b[0m\u001b[1;32m     42\u001b[0m   \u001b[0mind_recom\u001b[0m\u001b[0;34m[\u001b[0m\u001b[0mi\u001b[0m\u001b[0;34m]\u001b[0m\u001b[0;34m=\u001b[0m\u001b[0;34m(\u001b[0m\u001b[0mdf3\u001b[0m\u001b[0;34m.\u001b[0m\u001b[0mindex\u001b[0m\u001b[0;34m[\u001b[0m\u001b[0mi\u001b[0m\u001b[0;34m]\u001b[0m\u001b[0;34m,\u001b[0m\u001b[0muser_id\u001b[0m\u001b[0;34m[\u001b[0m\u001b[0;36m0\u001b[0m\u001b[0;34m]\u001b[0m\u001b[0;34m,\u001b[0m\u001b[0mnet\u001b[0m\u001b[0;34m,\u001b[0m\u001b[0mratings\u001b[0m\u001b[0;34m)\u001b[0m\u001b[0;34m\u001b[0m\u001b[0m\n\u001b[1;32m     43\u001b[0m \u001b[0;34m\u001b[0m\u001b[0m\n",
      "\u001b[0;32m/usr/local/envs/py2env/lib/python2.7/site-packages/pandas/core/ops.pyc\u001b[0m in \u001b[0;36mwrapper\u001b[0;34m(self, other, axis)\u001b[0m\n\u001b[1;32m    877\u001b[0m \u001b[0;34m\u001b[0m\u001b[0m\n\u001b[1;32m    878\u001b[0m             \u001b[0;32mwith\u001b[0m \u001b[0mnp\u001b[0m\u001b[0;34m.\u001b[0m\u001b[0merrstate\u001b[0m\u001b[0;34m(\u001b[0m\u001b[0mall\u001b[0m\u001b[0;34m=\u001b[0m\u001b[0;34m'ignore'\u001b[0m\u001b[0;34m)\u001b[0m\u001b[0;34m:\u001b[0m\u001b[0;34m\u001b[0m\u001b[0m\n\u001b[0;32m--> 879\u001b[0;31m                 \u001b[0mres\u001b[0m \u001b[0;34m=\u001b[0m \u001b[0mna_op\u001b[0m\u001b[0;34m(\u001b[0m\u001b[0mvalues\u001b[0m\u001b[0;34m,\u001b[0m \u001b[0mother\u001b[0m\u001b[0;34m)\u001b[0m\u001b[0;34m\u001b[0m\u001b[0m\n\u001b[0m\u001b[1;32m    880\u001b[0m             \u001b[0;32mif\u001b[0m \u001b[0mis_scalar\u001b[0m\u001b[0;34m(\u001b[0m\u001b[0mres\u001b[0m\u001b[0;34m)\u001b[0m\u001b[0;34m:\u001b[0m\u001b[0;34m\u001b[0m\u001b[0m\n\u001b[1;32m    881\u001b[0m                 raise TypeError('Could not compare {typ} type with Series'\n",
      "\u001b[0;32m/usr/local/envs/py2env/lib/python2.7/site-packages/pandas/core/ops.pyc\u001b[0m in \u001b[0;36mna_op\u001b[0;34m(x, y)\u001b[0m\n\u001b[1;32m    781\u001b[0m \u001b[0;34m\u001b[0m\u001b[0m\n\u001b[1;32m    782\u001b[0m         \u001b[0;32mif\u001b[0m \u001b[0mis_object_dtype\u001b[0m\u001b[0;34m(\u001b[0m\u001b[0mx\u001b[0m\u001b[0;34m.\u001b[0m\u001b[0mdtype\u001b[0m\u001b[0;34m)\u001b[0m\u001b[0;34m:\u001b[0m\u001b[0;34m\u001b[0m\u001b[0m\n\u001b[0;32m--> 783\u001b[0;31m             \u001b[0mresult\u001b[0m \u001b[0;34m=\u001b[0m \u001b[0m_comp_method_OBJECT_ARRAY\u001b[0m\u001b[0;34m(\u001b[0m\u001b[0mop\u001b[0m\u001b[0;34m,\u001b[0m \u001b[0mx\u001b[0m\u001b[0;34m,\u001b[0m \u001b[0my\u001b[0m\u001b[0;34m)\u001b[0m\u001b[0;34m\u001b[0m\u001b[0m\n\u001b[0m\u001b[1;32m    784\u001b[0m         \u001b[0;32melse\u001b[0m\u001b[0;34m:\u001b[0m\u001b[0;34m\u001b[0m\u001b[0m\n\u001b[1;32m    785\u001b[0m \u001b[0;34m\u001b[0m\u001b[0m\n",
      "\u001b[0;32m/usr/local/envs/py2env/lib/python2.7/site-packages/pandas/core/ops.pyc\u001b[0m in \u001b[0;36m_comp_method_OBJECT_ARRAY\u001b[0;34m(op, x, y)\u001b[0m\n\u001b[1;32m    761\u001b[0m         \u001b[0mresult\u001b[0m \u001b[0;34m=\u001b[0m \u001b[0mlib\u001b[0m\u001b[0;34m.\u001b[0m\u001b[0mvec_compare\u001b[0m\u001b[0;34m(\u001b[0m\u001b[0mx\u001b[0m\u001b[0;34m,\u001b[0m \u001b[0my\u001b[0m\u001b[0;34m,\u001b[0m \u001b[0mop\u001b[0m\u001b[0;34m)\u001b[0m\u001b[0;34m\u001b[0m\u001b[0m\n\u001b[1;32m    762\u001b[0m     \u001b[0;32melse\u001b[0m\u001b[0;34m:\u001b[0m\u001b[0;34m\u001b[0m\u001b[0m\n\u001b[0;32m--> 763\u001b[0;31m         \u001b[0mresult\u001b[0m \u001b[0;34m=\u001b[0m \u001b[0mlib\u001b[0m\u001b[0;34m.\u001b[0m\u001b[0mscalar_compare\u001b[0m\u001b[0;34m(\u001b[0m\u001b[0mx\u001b[0m\u001b[0;34m,\u001b[0m \u001b[0my\u001b[0m\u001b[0;34m,\u001b[0m \u001b[0mop\u001b[0m\u001b[0;34m)\u001b[0m\u001b[0;34m\u001b[0m\u001b[0m\n\u001b[0m\u001b[1;32m    764\u001b[0m     \u001b[0;32mreturn\u001b[0m \u001b[0mresult\u001b[0m\u001b[0;34m\u001b[0m\u001b[0m\n\u001b[1;32m    765\u001b[0m \u001b[0;34m\u001b[0m\u001b[0m\n",
      "\u001b[0;31mKeyboardInterrupt\u001b[0m: "
     ]
    }
   ],
   "source": [
    "\n",
    "rules=list()\n",
    "print('a')\n",
    "popular_prod=list()\n",
    "li=list()\n",
    "for i in range(2):\n",
    "  df2=df.iloc[3000*i:(i+1)*3000,:]\n",
    "  df3=df2.pivot(index='userId',columns='itemId',values='itemId')\n",
    "  ff=pd.DataFrame(df2['itemId']).groupby(['itemId']).apply(lambda x:x.count())\n",
    "  ff.columns=['counts']\n",
    "  gg=pd.DataFrame(ff).sort_values(['counts'],ascending=False)\n",
    "  popular_prod.append(gg.iloc[0:6,:])\n",
    "  ######collabarative filtering\n",
    "  df12=df2.pivot(index='userId',columns='itemId',values='rating')\n",
    "  df12.fillna(value=0,inplace=True)\n",
    "  similar_users=cosine_similarity(df12)\n",
    "  np.fill_diagonal(similar_users,0)\n",
    "  similar_users=pd.DataFrame(similar_users)\n",
    "  for i in range(len(similar_users)):\n",
    "    try:\n",
    "      k=similar_users.loc[i,:].idxmax()\n",
    "      li.append(k)\n",
    "    #print(li)\n",
    "    except:\n",
    "      li.append(None)\n",
    "  ind_recom=[None for x in range(len(li)+1)]\n",
    "  # retrieve item id's of a prticualr user\n",
    "ratings=list()\n",
    "user_id=list()\n",
    "for i in range(len(similar_users)):\n",
    "  a=list()\n",
    "  b=list()\n",
    "  for k in df.loc[df['userId']==df3.index[li[i]],['itemId','userId']].values:\n",
    "    a.append(k[0])\n",
    "    user_id.append(k[1])\n",
    "  for k in df.loc[df['userId']==df3.index[i],'itemId'].values:\n",
    "    b.append(k)\n",
    "  #recommending\n",
    "  net=set(a)-set(b)\n",
    "  for item in net:\n",
    "    ratings.append(df.loc[(df['userId']==user_id[0]) & (df['itemId']==item),'rating'].values[:len(net)])\n",
    "  ind_recom[i]=(df3.index[i],user_id[0],net,ratings)\n",
    "  \n",
    "              \n",
    "  \n",
    "            \n",
    "                                                                                      "
   ]
  },
  {
   "cell_type": "code",
   "execution_count": 105,
   "metadata": {},
   "outputs": [
    {
     "data": {
      "text/html": [
       "<iframe id=\"igraph\" scrolling=\"no\" style=\"border:none;\" seamless=\"seamless\" src=\"https://plot.ly/~AdityaRoyalMatturi/90.embed\" height=\"525px\" width=\"100%\"></iframe>"
      ],
      "text/plain": [
       "<plotly.tools.PlotlyDisplay object>"
      ]
     },
     "execution_count": 105,
     "metadata": {},
     "output_type": "execute_result"
    }
   ],
   "source": [
    "popular_prod=['B006GWO5WK','B0019EHU8G','B007WTAJTO','B00DR0PDNE','B0074BW614']\n",
    "k=df.loc[df.loc[:,'itemId']==popular_prod[0],['timestamp','rating']]\n",
    "\n",
    "k['year']=k['timestamp'].apply(lambda x:x[:4])\n",
    "#k=k.loc[k['year']=='2014',:]\n",
    "k['month']=k['timestamp'].apply(lambda x:x[5:7])\n",
    "k=k.groupby(['year','month'])['rating'].mean()\n",
    "k=k.reset_index(level=['year','month'])\n",
    "k=k.sort_values(['year','month'])\n",
    "k['timestamp']=k[['year','month']].apply(lambda x:'-'.join(x),axis=1)\n",
    "py.sign_in('AdityaRoyalMatturi', 'zMVu0vZEqfMLeMEXdltw')\n",
    "data5 = go.Scatter(\n",
    "          x=k['timestamp'],\n",
    "          y=k['rating'],mode='lines+markers',\n",
    "line = dict(\n",
    "        width = .4,\n",
    "        ))\n",
    "layout = go.Layout(\n",
    "    title='Ratings for product id B006GWO5WK from beginning' ,\n",
    "    xaxis=dict(\n",
    "        title='time'),\n",
    "    yaxis=dict(\n",
    "        title='Rating')\n",
    ")\n",
    "#data4 = go.Scatter(\n",
    "#          x=k['timestamp'],\n",
    " #         y=k['rating'],mode='lines+markers')\n",
    "#data3 = go.Scatter(\n",
    " #         x=k['timestamp'],\n",
    "  #        y=k['rating'],mode='lines+markers')\n",
    "#data2 = go.Scatter(\n",
    " #         x=k['timestamp'],\n",
    "  #        y=k['rating'],mode='lines+markers')\n",
    "#data1 = go.Scatter(\n",
    " #         x=k['timestamp'],\n",
    "  #        y=k['rating'],mode='lines+markers')\n",
    "data=[data5]\n",
    "fig = dict(data=data)\n",
    "py.plot(fig)\n",
    "data=[data5]\n",
    "fig = dict(data=data,layout=layout)\n",
    "py.iplot(fig,filename='a.csv')"
   ]
  },
  {
   "cell_type": "code",
   "execution_count": 30,
   "metadata": {},
   "outputs": [
    {
     "data": {
      "text/html": [
       "<div>\n",
       "<style scoped>\n",
       "    .dataframe tbody tr th:only-of-type {\n",
       "        vertical-align: middle;\n",
       "    }\n",
       "\n",
       "    .dataframe tbody tr th {\n",
       "        vertical-align: top;\n",
       "    }\n",
       "\n",
       "    .dataframe thead th {\n",
       "        text-align: right;\n",
       "    }\n",
       "</style>\n",
       "<table border=\"1\" class=\"dataframe\">\n",
       "  <thead>\n",
       "    <tr style=\"text-align: right;\">\n",
       "      <th></th>\n",
       "      <th>itemid</th>\n",
       "      <th>count(rating)</th>\n",
       "    </tr>\n",
       "  </thead>\n",
       "  <tbody>\n",
       "    <tr>\n",
       "      <th>27089</th>\n",
       "      <td>B00BGA9WK2</td>\n",
       "      <td>7561</td>\n",
       "    </tr>\n",
       "    <tr>\n",
       "      <th>36259</th>\n",
       "      <td>B0044YU60M</td>\n",
       "      <td>5239</td>\n",
       "    </tr>\n",
       "    <tr>\n",
       "      <th>41007</th>\n",
       "      <td>B007WTAJTO</td>\n",
       "      <td>14172</td>\n",
       "    </tr>\n",
       "    <tr>\n",
       "      <th>80183</th>\n",
       "      <td>B00316263Y</td>\n",
       "      <td>5038</td>\n",
       "    </tr>\n",
       "    <tr>\n",
       "      <th>110681</th>\n",
       "      <td>B000LRMS66</td>\n",
       "      <td>8715</td>\n",
       "    </tr>\n",
       "  </tbody>\n",
       "</table>\n",
       "</div>"
      ],
      "text/plain": [
       "            itemid  count(rating)\n",
       "27089   B00BGA9WK2           7561\n",
       "36259   B0044YU60M           5239\n",
       "41007   B007WTAJTO          14172\n",
       "80183   B00316263Y           5038\n",
       "110681  B000LRMS66           8715"
      ]
     },
     "execution_count": 30,
     "metadata": {},
     "output_type": "execute_result"
    }
   ],
   "source": [
    "df.head()"
   ]
  },
  {
   "cell_type": "code",
   "execution_count": 7,
   "metadata": {},
   "outputs": [],
   "source": [
    "obj = storage.Bucket('neeh').object('a.csv')\n",
    "data_csv=obj.read_stream()\n",
    "df = pd.read_csv(BytesIO(data_csv), sep = ',')\n",
    "df['count(rating)']=np.log(df['count(rating)'])\n"
   ]
  },
  {
   "cell_type": "code",
   "execution_count": 8,
   "metadata": {},
   "outputs": [
    {
     "ename": "PlotlyDictKeyError",
     "evalue": "'width' is not allowed in 'histogram'\n\nPath To Error: ['width']\n\nValid attributes for 'histogram' at path [] under parents []:\n\n    ['cumulative', 'orientation', 'stream', 'ysrc', 'ycalendar',\n    'hoverinfo', 'xsrc', 'visible', 'legendgroup', 'selected', 'marker',\n    'uid', 'showlegend', 'error_x', 'error_y', 'customdata', 'hoverinfosrc',\n    'xaxis', 'text', 'selectedpoints', 'bardir', 'type', 'opacity',\n    'xcalendar', 'hoverlabel', 'nbinsy', 'textsrc', 'histfunc', 'xbins',\n    'ybins', 'name', 'autobinx', 'autobiny', 'yaxis', 'customdatasrc',\n    'ids', 'idssrc', 'histnorm', 'nbinsx', 'y', 'x', 'unselected']\n\nRun `<histogram-object>.help('attribute')` on any of the above.\n'<histogram-object>' is the object at []",
     "output_type": "error",
     "traceback": [
      "\u001b[0;31m\u001b[0m",
      "\u001b[0;31mPlotlyDictKeyError\u001b[0mTraceback (most recent call last)",
      "\u001b[0;32m<ipython-input-8-b132c2cb0848>\u001b[0m in \u001b[0;36m<module>\u001b[0;34m()\u001b[0m\n\u001b[1;32m      3\u001b[0m \u001b[0mpy\u001b[0m\u001b[0;34m.\u001b[0m\u001b[0msign_in\u001b[0m\u001b[0;34m(\u001b[0m\u001b[0;34m'AdityaRoyalMatturi'\u001b[0m\u001b[0;34m,\u001b[0m \u001b[0;34m'zMVu0vZEqfMLeMEXdltw'\u001b[0m\u001b[0;34m)\u001b[0m\u001b[0;34m\u001b[0m\u001b[0m\n\u001b[1;32m      4\u001b[0m data5 = go.Histogram(\n\u001b[0;32m----> 5\u001b[0;31m           x=df['count(rating)'],width=4)\n\u001b[0m\u001b[1;32m      6\u001b[0m layout = go.Layout(\n\u001b[1;32m      7\u001b[0m     \u001b[0mtitle\u001b[0m\u001b[0;34m=\u001b[0m\u001b[0;34m'distribution of count of user_ids in log_scale '\u001b[0m\u001b[0;34m,\u001b[0m\u001b[0;34m\u001b[0m\u001b[0m\n",
      "\u001b[0;32m/usr/local/envs/py2env/lib/python2.7/site-packages/plotly/graph_objs/graph_objs.pyc\u001b[0m in \u001b[0;36m__init__\u001b[0;34m(self, *args, **kwargs)\u001b[0m\n\u001b[1;32m    373\u001b[0m         \u001b[0md\u001b[0m \u001b[0;34m=\u001b[0m \u001b[0;34m{\u001b[0m\u001b[0mkey\u001b[0m\u001b[0;34m:\u001b[0m \u001b[0mval\u001b[0m \u001b[0;32mfor\u001b[0m \u001b[0mkey\u001b[0m\u001b[0;34m,\u001b[0m \u001b[0mval\u001b[0m \u001b[0;32min\u001b[0m \u001b[0mdict\u001b[0m\u001b[0;34m(\u001b[0m\u001b[0;34m*\u001b[0m\u001b[0margs\u001b[0m\u001b[0;34m,\u001b[0m \u001b[0;34m**\u001b[0m\u001b[0mkwargs\u001b[0m\u001b[0;34m)\u001b[0m\u001b[0;34m.\u001b[0m\u001b[0mitems\u001b[0m\u001b[0;34m(\u001b[0m\u001b[0;34m)\u001b[0m\u001b[0;34m}\u001b[0m\u001b[0;34m\u001b[0m\u001b[0m\n\u001b[1;32m    374\u001b[0m         \u001b[0;32mfor\u001b[0m \u001b[0mkey\u001b[0m\u001b[0;34m,\u001b[0m \u001b[0mval\u001b[0m \u001b[0;32min\u001b[0m \u001b[0md\u001b[0m\u001b[0;34m.\u001b[0m\u001b[0mitems\u001b[0m\u001b[0;34m(\u001b[0m\u001b[0;34m)\u001b[0m\u001b[0;34m:\u001b[0m\u001b[0;34m\u001b[0m\u001b[0m\n\u001b[0;32m--> 375\u001b[0;31m             \u001b[0mself\u001b[0m\u001b[0;34m.\u001b[0m\u001b[0m__setitem__\u001b[0m\u001b[0;34m(\u001b[0m\u001b[0mkey\u001b[0m\u001b[0;34m,\u001b[0m \u001b[0mval\u001b[0m\u001b[0;34m,\u001b[0m \u001b[0m_raise\u001b[0m\u001b[0;34m=\u001b[0m\u001b[0m_raise\u001b[0m\u001b[0;34m)\u001b[0m\u001b[0;34m\u001b[0m\u001b[0m\n\u001b[0m\u001b[1;32m    376\u001b[0m \u001b[0;34m\u001b[0m\u001b[0m\n\u001b[1;32m    377\u001b[0m     \u001b[0;32mdef\u001b[0m \u001b[0m__dir__\u001b[0m\u001b[0;34m(\u001b[0m\u001b[0mself\u001b[0m\u001b[0;34m)\u001b[0m\u001b[0;34m:\u001b[0m\u001b[0;34m\u001b[0m\u001b[0m\n",
      "\u001b[0;32m/usr/local/envs/py2env/lib/python2.7/site-packages/plotly/graph_objs/graph_objs.pyc\u001b[0m in \u001b[0;36m__setitem__\u001b[0;34m(self, key, value, _raise)\u001b[0m\n\u001b[1;32m    424\u001b[0m                 \u001b[0;32mif\u001b[0m \u001b[0m_raise\u001b[0m\u001b[0;34m:\u001b[0m\u001b[0;34m\u001b[0m\u001b[0m\n\u001b[1;32m    425\u001b[0m                     \u001b[0mpath\u001b[0m \u001b[0;34m=\u001b[0m \u001b[0mself\u001b[0m\u001b[0;34m.\u001b[0m\u001b[0m_get_path\u001b[0m\u001b[0;34m(\u001b[0m\u001b[0;34m)\u001b[0m \u001b[0;34m+\u001b[0m \u001b[0;34m(\u001b[0m\u001b[0mkey\u001b[0m\u001b[0;34m,\u001b[0m \u001b[0;34m)\u001b[0m\u001b[0;34m\u001b[0m\u001b[0m\n\u001b[0;32m--> 426\u001b[0;31m                     \u001b[0;32mraise\u001b[0m \u001b[0mexceptions\u001b[0m\u001b[0;34m.\u001b[0m\u001b[0mPlotlyDictKeyError\u001b[0m\u001b[0;34m(\u001b[0m\u001b[0mself\u001b[0m\u001b[0;34m,\u001b[0m \u001b[0mpath\u001b[0m\u001b[0;34m)\u001b[0m\u001b[0;34m\u001b[0m\u001b[0m\n\u001b[0m\u001b[1;32m    427\u001b[0m                 \u001b[0;32mreturn\u001b[0m\u001b[0;34m\u001b[0m\u001b[0m\n\u001b[1;32m    428\u001b[0m \u001b[0;34m\u001b[0m\u001b[0m\n",
      "\u001b[0;31mPlotlyDictKeyError\u001b[0m: 'width' is not allowed in 'histogram'\n\nPath To Error: ['width']\n\nValid attributes for 'histogram' at path [] under parents []:\n\n    ['cumulative', 'orientation', 'stream', 'ysrc', 'ycalendar',\n    'hoverinfo', 'xsrc', 'visible', 'legendgroup', 'selected', 'marker',\n    'uid', 'showlegend', 'error_x', 'error_y', 'customdata', 'hoverinfosrc',\n    'xaxis', 'text', 'selectedpoints', 'bardir', 'type', 'opacity',\n    'xcalendar', 'hoverlabel', 'nbinsy', 'textsrc', 'histfunc', 'xbins',\n    'ybins', 'name', 'autobinx', 'autobiny', 'yaxis', 'customdatasrc',\n    'ids', 'idssrc', 'histnorm', 'nbinsx', 'y', 'x', 'unselected']\n\nRun `<histogram-object>.help('attribute')` on any of the above.\n'<histogram-object>' is the object at []"
     ]
    }
   ],
   "source": [
    "\n",
    "#################e##########\n",
    "py.sign_in('AdityaRoyalMatturi', 'zMVu0vZEqfMLeMEXdltw')\n",
    "data5 = go.Histogram(\n",
    "          x=df['count(rating)'],width=4)\n",
    "layout = go.Layout(\n",
    "    title='distribution of count of user_ids in log_scale ',\n",
    "    xaxis=dict(\n",
    "        title='repetitions in logs'),\n",
    "    yaxis=dict(\n",
    "        title='number of user_ids '))\n",
    "data=[data5]\n",
    "fig = dict(data=data,layout=layout)\n",
    "py.iplot(fig,filename='e.csv')\n"
   ]
  },
  {
   "cell_type": "code",
   "execution_count": 49,
   "metadata": {},
   "outputs": [
    {
     "data": {
      "text/plain": [
       "(array([2.51918e+05, 1.10137e+05, 5.37610e+04, 3.44280e+04, 1.62760e+04,\n",
       "        6.56400e+03, 2.20300e+03, 5.91000e+02, 1.06000e+02, 1.80000e+01]),\n",
       " array([0.        , 0.98115915, 1.96231831, 2.94347746, 3.92463662,\n",
       "        4.90579577, 5.88695492, 6.86811408, 7.84927323, 8.83043238,\n",
       "        9.81159154]),\n",
       " <a list of 10 Patch objects>)"
      ]
     },
     "execution_count": 49,
     "metadata": {},
     "output_type": "execute_result"
    },
    {
     "data": {
      "image/png": "[encoded data removed]",
      "text/plain": [
       "<matplotlib.figure.Figure at 0x7fd2e65b1f10>"
      ]
     },
     "metadata": {},
     "output_type": "display_data"
    }
   ],
   "source": [
    "import numpy as np\n",
    "df['count(rating)']=np.log(df['count(rating)'])\n",
    "plt.hist(df['count(rating)'])"
   ]
  },
  {
   "cell_type": "code",
   "execution_count": 41,
   "metadata": {},
   "outputs": [
    {
     "data": {
      "text/html": [
       "<div>\n",
       "<style scoped>\n",
       "    .dataframe tbody tr th:only-of-type {\n",
       "        vertical-align: middle;\n",
       "    }\n",
       "\n",
       "    .dataframe tbody tr th {\n",
       "        vertical-align: top;\n",
       "    }\n",
       "\n",
       "    .dataframe thead th {\n",
       "        text-align: right;\n",
       "    }\n",
       "</style>\n",
       "<table border=\"1\" class=\"dataframe\">\n",
       "  <thead>\n",
       "    <tr style=\"text-align: right;\">\n",
       "      <th></th>\n",
       "      <th>itemid</th>\n",
       "      <th>count(rating)</th>\n",
       "    </tr>\n",
       "  </thead>\n",
       "  <tbody>\n",
       "    <tr>\n",
       "      <th>0</th>\n",
       "      <td>B0048NVVZS</td>\n",
       "      <td>1</td>\n",
       "    </tr>\n",
       "    <tr>\n",
       "      <th>1</th>\n",
       "      <td>B00FN99AZ4</td>\n",
       "      <td>2</td>\n",
       "    </tr>\n",
       "    <tr>\n",
       "      <th>2</th>\n",
       "      <td>B00594ZUB6</td>\n",
       "      <td>1</td>\n",
       "    </tr>\n",
       "    <tr>\n",
       "      <th>3</th>\n",
       "      <td>B000NDLJOU</td>\n",
       "      <td>16</td>\n",
       "    </tr>\n",
       "    <tr>\n",
       "      <th>4</th>\n",
       "      <td>B0013ENCCA</td>\n",
       "      <td>2</td>\n",
       "    </tr>\n",
       "  </tbody>\n",
       "</table>\n",
       "</div>"
      ],
      "text/plain": [
       "       itemid  count(rating)\n",
       "0  B0048NVVZS              1\n",
       "1  B00FN99AZ4              2\n",
       "2  B00594ZUB6              1\n",
       "3  B000NDLJOU             16\n",
       "4  B0013ENCCA              2"
      ]
     },
     "execution_count": 41,
     "metadata": {},
     "output_type": "execute_result"
    }
   ],
   "source": [
    "df.head()"
   ]
  },
  {
   "cell_type": "code",
   "execution_count": 111,
   "metadata": {},
   "outputs": [
    {
     "data": {
      "text/html": [
       "<iframe id=\"igraph\" scrolling=\"no\" style=\"border:none;\" seamless=\"seamless\" src=\"https://plot.ly/~AdityaRoyalMatturi/108.embed\" height=\"525px\" width=\"100%\"></iframe>"
      ],
      "text/plain": [
       "<plotly.tools.PlotlyDisplay object>"
      ]
     },
     "execution_count": 111,
     "metadata": {},
     "output_type": "execute_result"
    }
   ],
   "source": [
    "#################e##########\n",
    "py.sign_in('AdityaRoyalMatturi', 'zMVu0vZEqfMLeMEXdltw')\n",
    "data5 = go.Bar(\n",
    "          x=df['category'],\n",
    "          y=df['rating'])\n",
    "layout = go.Layout(\n",
    "    title='mean_rating for each category',\n",
    "    xaxis=dict(\n",
    "        title='itemid'),\n",
    "    yaxis=dict(\n",
    "        title='count_Rating')\n",
    ")\n",
    "data=[data5]\n",
    "fig = dict(data=data,layout=layout)\n",
    "py.iplot(fig,filename='e.csv')"
   ]
  },
  {
   "cell_type": "code",
   "execution_count": 115,
   "metadata": {},
   "outputs": [
    {
     "data": {
      "text/plain": [
       "u'https://plot.ly/~AdityaRoyalMatturi/106'"
      ]
     },
     "execution_count": 115,
     "metadata": {},
     "output_type": "execute_result"
    }
   ],
   "source": [
    "####################d########\n",
    "py.sign_in('AdityaRoyalMatturi', 'zMVu0vZEqfMLeMEXdltw')\n",
    "data5 = go.Pie(\n",
    "  labels=[1,2,3,4,5],values=[456322,4347541,901765,1485781,633073])\n",
    "\n",
    "data=[data5]\n",
    "fig = dict(data=data)\n",
    "py.plot(fig,filename='d.csv')\n"
   ]
  },
  {
   "cell_type": "code",
   "execution_count": null,
   "metadata": {
    "collapsed": true
   },
   "outputs": [],
   "source": [
    "#########################b\n",
    "data5 = go.Histogram(\n",
    "          x=df['itemid'])\n",
    "layout = go.Layout(\n",
    "    title='Distribution of counts',\n",
    "    xaxis=dict(\n",
    "        title='Item_id'))\n",
    "data=[data5]\n",
    "fig = dict(data=data,layout=layout)\n",
    "py.plot(fig,filename='b.csv')\n",
    "\n",
    "\n",
    "\n",
    "\n",
    "\n"
   ]
  },
  {
   "cell_type": "code",
   "execution_count": null,
   "metadata": {
    "collapsed": true
   },
   "outputs": [],
   "source": [
    "data5 = go.Bar(\n",
    "          x=df['userid'],\n",
    "          y=df['count(rating)'])\n",
    "layout = go.Layout(\n",
    "    title='No of ratings for each users',\n",
    "    xaxis=dict(\n",
    "        title='User_Id'),\n",
    "    yaxis=dict(\n",
    "        title='Rating_count')\n",
    ")"
   ]
  },
  {
   "cell_type": "code",
   "execution_count": 116,
   "metadata": {},
   "outputs": [
    {
     "data": {
      "text/html": [
       "<iframe id=\"igraph\" scrolling=\"no\" style=\"border:none;\" seamless=\"seamless\" src=\"https://plot.ly/~AdityaRoyalMatturi/90.embed\" height=\"525px\" width=\"100%\"></iframe>"
      ],
      "text/plain": [
       "<plotly.tools.PlotlyDisplay object>"
      ]
     },
     "execution_count": 116,
     "metadata": {},
     "output_type": "execute_result"
    }
   ],
   "source": [
    "data=[data5]\n",
    "fig = dict(data=data,layout=layout)\n",
    "py.iplot(fig,filename='a.csv')"
   ]
  },
  {
   "cell_type": "code",
   "execution_count": 18,
   "metadata": {},
   "outputs": [
    {
     "name": "stdout",
     "output_type": "stream",
     "text": [
      "Requirement already satisfied: numpy in /usr/local/envs/py2env/lib/python2.7/site-packages\n",
      "\u001b[33mYou are using pip version 9.0.1, however version 10.0.1 is available.\n",
      "You should consider upgrading via the 'pip install --upgrade pip' command.\u001b[0m\n"
     ]
    },
    {
     "data": {
      "text/plain": [
       "array(['2005', '2006', '2007', '2008', '2009', '2010', '2011', '2012',\n",
       "       '2013', '2014'], dtype=object)"
      ]
     },
     "execution_count": 18,
     "metadata": {},
     "output_type": "execute_result"
    }
   ],
   "source": [
    "!pip install numpy\n",
    "import numpy as np\n",
    "np.unique(k['year'])"
   ]
  },
  {
   "cell_type": "code",
   "execution_count": 97,
   "metadata": {},
   "outputs": [
    {
     "data": {
      "text/plain": [
       "10"
      ]
     },
     "execution_count": 97,
     "metadata": {},
     "output_type": "execute_result"
    }
   ],
   "source": [
    "len(popular_prod)"
   ]
  },
  {
   "cell_type": "code",
   "execution_count": 122,
   "metadata": {},
   "outputs": [
    {
     "data": {
      "text/plain": [
       "[]"
      ]
     },
     "execution_count": 122,
     "metadata": {},
     "output_type": "execute_result"
    }
   ],
   "source": [
    "rules"
   ]
  },
  {
   "cell_type": "code",
   "execution_count": 123,
   "metadata": {},
   "outputs": [
    {
     "data": {
      "text/plain": [
       "20"
      ]
     },
     "execution_count": 123,
     "metadata": {},
     "output_type": "execute_result"
    }
   ],
   "source": [
    "i"
   ]
  },
  {
   "cell_type": "code",
   "execution_count": null,
   "metadata": {
    "collapsed": true
   },
   "outputs": [],
   "source": []
  }
 ],
 "metadata": {
  "kernelspec": {
   "display_name": "Python 3",
   "language": "python",
   "name": "python3"
  },
  "language_info": {
   "codemirror_mode": {
    "name": "ipython",
    "version": 3
   },
   "file_extension": ".py",
   "mimetype": "text/x-python",
   "name": "python",
   "nbconvert_exporter": "python",
   "pygments_lexer": "ipython3",
   "version": "3.6.4"
  }
 },
 "nbformat": 4,
 "nbformat_minor": 2
}
